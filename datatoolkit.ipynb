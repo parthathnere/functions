{
  "nbformat": 4,
  "nbformat_minor": 0,
  "metadata": {
    "colab": {
      "provenance": []
    },
    "kernelspec": {
      "name": "python3",
      "display_name": "Python 3"
    },
    "language_info": {
      "name": "python"
    }
  },
  "cells": [
    {
      "cell_type": "markdown",
      "source": [
        "# Functions\n"
      ],
      "metadata": {
        "id": "8tQrOxEbVWVr"
      }
    },
    {
      "cell_type": "markdown",
      "source": [
        "  # DATA TOOLKIT\n",
        "\n",
        "1. What is NumPy, and why is it widely used in Python?\n",
        "   - **NumPy** (Numerical Python) is a Python library for numerical computing. It provides fast, efficient support for multidimensional arrays (`ndarray`) and a wide range of mathematical operations. NumPy is widely used because of its performance, ease of use, and integration with other libraries.\n",
        "\n",
        "### Key Features\n",
        "- **Fast Operations:** Optimized for performance.\n",
        "- **Multidimensional Arrays:** Efficient handling of large datasets.\n",
        "- **Mathematical Tools:** Supports linear algebra, statistics, and more.\n",
        "- **Vectorization:** Eliminates loops by applying operations element-wise.\n",
        "\n",
        "*italicized text*"
      ],
      "metadata": {
        "id": "D04DnU4qWH4E"
      }
    },
    {
      "cell_type": "code",
      "source": [
        "import numpy as np\n",
        "\n",
        "# Create arrays\n",
        "arr = np.array([1, 2, 3, 4, 5])\n",
        "\n",
        "# Operations\n",
        "print(\"Array + 10:\", arr + 10)         # [11 12 13 14 15]\n",
        "print(\"Mean:\", np.mean(arr))          # 3.0\n",
        "print(\"Dot product:\", np.dot(arr, arr)) # 55\n",
        "# This simplifies numerical computations and enhances efficiency."
      ],
      "metadata": {
        "colab": {
          "base_uri": "https://localhost:8080/"
        },
        "id": "FpBh0FYRVeR4",
        "outputId": "997a18ca-901f-4837-e309-0b2b9e455b38"
      },
      "execution_count": 3,
      "outputs": [
        {
          "output_type": "stream",
          "name": "stdout",
          "text": [
            "Array + 10: [11 12 13 14 15]\n",
            "Mean: 3.0\n",
            "Dot product: 55\n"
          ]
        }
      ]
    },
    {
      "cell_type": "markdown",
      "source": [
        "2.How does broadcasting work in NumPy?\n",
        "   - Broadcasting in NumPy allows operations to be performed on arrays of different shapes and sizes by automatically expanding the smaller array to match the shape of the larger one. This avoids the need for explicit replication of data, saving memory and computational resources.\n",
        "\n",
        "Rules of Broadcasting:\n",
        "\n",
        "1. Dimensions Compatibility: Starting from the trailing dimensions, the size of each dimension must be either the same or one of the arrays should have size 1 in that dimension.\n",
        "\n",
        "\n",
        "2. Stretching Smaller Array: If the smaller array has fewer dimensions, it is padded with ones on the left until it matches the number of dimensions of the larger array."
      ],
      "metadata": {
        "id": "wNnsuPNLa2W-"
      }
    },
    {
      "cell_type": "markdown",
      "source": [],
      "metadata": {
        "id": "pyIYTnvnbp4N"
      }
    },
    {
      "cell_type": "code",
      "source": [
        "import numpy as np\n",
        "\n",
        "# Example 1: Scalar and Array\n",
        "arr = np.array([1, 2, 3])\n",
        "print(arr + 10)  # Output: [11 12 13]\n",
        "\n",
        "# Example 2: Arrays of Different Shapes\n",
        "arr1 = np.array([[1, 2, 3], [4, 5, 6]])  # Shape: (2, 3)\n",
        "arr2 = np.array([10, 20, 30])            # Shape: (3,)\n",
        "print(arr1 + arr2)\n",
        "# Output:\n",
        "# [[11 22 33]\n",
        "#  [14 25 36]]\n"
      ],
      "metadata": {
        "colab": {
          "base_uri": "https://localhost:8080/"
        },
        "id": "jbhHaT72bqTj",
        "outputId": "91b451fb-5630-40b7-f9b1-5edeb4dbf584"
      },
      "execution_count": 5,
      "outputs": [
        {
          "output_type": "stream",
          "name": "stdout",
          "text": [
            "[11 12 13]\n",
            "[[11 22 33]\n",
            " [14 25 36]]\n"
          ]
        }
      ]
    },
    {
      "cell_type": "markdown",
      "source": [
        "3. what is a Pandas Dataframe?\n",
        "   - A Pandas DataFrame is a two-dimensional, tabular data structure in Python, similar to an Excel spreadsheet or SQL table. It has rows and columns, where each column can hold data of different types (e.g., integers, floats, strings).\n",
        "\n",
        "Key Features\n",
        "Labeled axes (rows and columns): Easier to manipulate data.\n",
        "Flexible indexing: Access data by row/column labels or positions.\n",
        "Rich functionality: Supports data manipulation, aggregation, and analysis.\n"
      ],
      "metadata": {
        "id": "5SmabQ6HdFKo"
      }
    },
    {
      "cell_type": "code",
      "source": [
        "import pandas as pd\n",
        "\n",
        "# Create a DataFrame\n",
        "data = {\n",
        "    \"Name\": [\"Parth\", \"Vanshika\", \"Lily\"],\n",
        "    \"Age\": [21, 20, 20],\n",
        "    \"City\": [\"Chhindwara\", \"Bhopal\", \"Indore\"]\n",
        "}\n",
        "df = pd.DataFrame(data)\n",
        "\n",
        "# Access data\n",
        "print(df)              # Display the DataFrame\n",
        "print(df[\"Name\"])       # Access a column\n",
        "print(df.iloc[0])       # Access the first row\n"
      ],
      "metadata": {
        "colab": {
          "base_uri": "https://localhost:8080/"
        },
        "id": "w4SZ041QdzlW",
        "outputId": "4fa1ccfd-f9e6-49aa-fe30-b2daf8f0c2a7"
      },
      "execution_count": 7,
      "outputs": [
        {
          "output_type": "stream",
          "name": "stdout",
          "text": [
            "       Name  Age        City\n",
            "0     Parth   21  Chhindwara\n",
            "1  Vanshika   20      Bhopal\n",
            "2      Lily   20      Indore\n",
            "0       Parth\n",
            "1    Vanshika\n",
            "2        Lily\n",
            "Name: Name, dtype: object\n",
            "Name         Parth\n",
            "Age             21\n",
            "City    Chhindwara\n",
            "Name: 0, dtype: object\n"
          ]
        }
      ]
    },
    {
      "cell_type": "markdown",
      "source": [
        "4. Explain the use of the groupby() method in Pandas.\n",
        "   - The groupby() method in Pandas is used to group data based on one or more columns, allowing you to perform aggregate operations (like sum, mean, count) on each group.\n",
        "\n",
        "Key Features\n",
        "\n",
        "Split: Splits data into groups based on a key.\n",
        "\n",
        "Apply: Applies aggregation or transformation functions.\n",
        "\n",
        "Combine: Combines results into a new DataFrame"
      ],
      "metadata": {
        "id": "VqBcCzSafa6_"
      }
    },
    {
      "cell_type": "code",
      "source": [
        "import pandas as pd\n",
        "\n",
        "# Sample data\n",
        "data = {\n",
        "    'Category': ['A', 'B', 'A', 'B', 'A', 'C'],\n",
        "    'Values': [10, 20, 30, 40, 50, 60]\n",
        "}\n",
        "df = pd.DataFrame(data)\n",
        "\n",
        "# Group by 'Category' and calculate the sum of 'Values'\n",
        "grouped = df.groupby('Category')['Values'].sum()\n",
        "\n",
        "print(grouped)\n"
      ],
      "metadata": {
        "colab": {
          "base_uri": "https://localhost:8080/"
        },
        "id": "Ty9tONBbgXqx",
        "outputId": "fc6ca3bf-50f7-41d5-bd22-661cc131c983"
      },
      "execution_count": 8,
      "outputs": [
        {
          "output_type": "stream",
          "name": "stdout",
          "text": [
            "Category\n",
            "A    90\n",
            "B    60\n",
            "C    60\n",
            "Name: Values, dtype: int64\n"
          ]
        }
      ]
    },
    {
      "cell_type": "markdown",
      "source": [
        "5. Why is Seaborn preferred for statistical visualizations?\n",
        "   - Seaborn is preferred for statistical visualizations because it provides a high-level interface for creating visually appealing and informative plots with minimal effort. It integrates seamlessly with Pandas and offers built-in themes, color palettes, and statistical functions for tasks like regression analysis, distribution plotting, and categorical data visualization."
      ],
      "metadata": {
        "id": "FxjhU-Ijg7XF"
      }
    },
    {
      "cell_type": "code",
      "source": [
        "import seaborn as sns\n",
        "import matplotlib.pyplot as plt\n",
        "import pandas as pd\n",
        "\n",
        "# Sample data\n",
        "data = {'Category': ['A', 'A', 'B', 'B', 'C', 'C'],\n",
        "        'Values': [10, 15, 20, 25, 30, 35]}\n",
        "df = pd.DataFrame(data)\n",
        "\n",
        "# Create a boxplot for 'Values' by 'Category'\n",
        "sns.boxplot(x='Category', y='Values', data=df)\n",
        "plt.show()\n"
      ],
      "metadata": {
        "colab": {
          "base_uri": "https://localhost:8080/",
          "height": 449
        },
        "id": "7tvsBvdGhcLs",
        "outputId": "b7a649b2-927a-4f6a-d234-e8718d7ae998"
      },
      "execution_count": 9,
      "outputs": [
        {
          "output_type": "display_data",
          "data": {
            "text/plain": [
              "<Figure size 640x480 with 1 Axes>"
            ],
            "image/png": "[encoded data removed]"
          },
          "metadata": {}
        }
      ]
    },
    {
      "cell_type": "markdown",
      "source": [
        "6. What are the differences between NumPy arrays and Python lists?\n",
        "   - Differences Between NumPy Arrays and Python Lists:\n",
        "Data Type: NumPy arrays are homogeneous, while lists can store heterogeneous elements.\n",
        "Performance: NumPy arrays are faster due to optimized implementation.\n",
        "Operations: NumPy supports vectorized operations; lists require loops.\n",
        "Memory: NumPy arrays are more memory-efficient than lists."
      ],
      "metadata": {
        "id": "bJxNA8HJhkVD"
      }
    },
    {
      "cell_type": "code",
      "source": [
        "import numpy as np\n",
        "\n",
        "# NumPy Array\n",
        "arr = np.array([1, 2, 3])\n",
        "print(arr + 2)  # [3 4 5]\n",
        "\n",
        "# Python List\n",
        "lst = [1, 2, 3]\n",
        "print([x + 2 for x in lst])  # [3, 4, 5]\n"
      ],
      "metadata": {
        "colab": {
          "base_uri": "https://localhost:8080/"
        },
        "id": "FP3xzmVEimzp",
        "outputId": "30521c12-3ffc-4fe2-a307-65d9ff57e633"
      },
      "execution_count": 10,
      "outputs": [
        {
          "output_type": "stream",
          "name": "stdout",
          "text": [
            "[3 4 5]\n",
            "[3, 4, 5]\n"
          ]
        }
      ]
    },
    {
      "cell_type": "markdown",
      "source": [
        "7. What is a heatmap, and when should it be used?\n",
        "   - A heatmap is a data visualization technique that uses color to represent the magnitude of values in a matrix or dataset. It is particularly useful for identifying patterns, correlations, and outliers in large datasets.\n",
        "\n",
        "When to Use:\n",
        "To visualize correlation matrices.\n",
        "To analyze relationships or trends in data.\n",
        "To highlight high and low values in a dataset"
      ],
      "metadata": {
        "id": "754eMCZeisnv"
      }
    },
    {
      "cell_type": "code",
      "source": [
        "import seaborn as sns\n",
        "import matplotlib.pyplot as plt\n",
        "\n",
        "# Sample correlation matrix\n",
        "data = [[1, 0.8, 0.2],\n",
        "        [0.8, 1, 0.4],\n",
        "        [0.2, 0.4, 1]]\n",
        "\n",
        "# Create a heatmap\n",
        "sns.heatmap(data, annot=True, cmap='coolwarm')\n",
        "plt.show()\n"
      ],
      "metadata": {
        "colab": {
          "base_uri": "https://localhost:8080/",
          "height": 435
        },
        "id": "--sUbckVjM7o",
        "outputId": "ce017292-71f3-408d-9535-a2f81ba3d573"
      },
      "execution_count": 11,
      "outputs": [
        {
          "output_type": "display_data",
          "data": {
            "text/plain": [
              "<Figure size 640x480 with 2 Axes>"
            ],
            "image/png": "[encoded data removed]"
          },
          "metadata": {}
        }
      ]
    },
    {
      "cell_type": "markdown",
      "source": [
        "8. What does the term \"vectorized operation\" mean in NumPy?\n",
        "   - A vectorized operation in NumPy refers to the ability to perform element-wise operations on entire arrays (vectors) without using explicit loops. This is possible due to NumPy's underlying C implementation, which allows for faster and more efficient computation."
      ],
      "metadata": {
        "id": "Xwa9uMkZjWn5"
      }
    },
    {
      "cell_type": "code",
      "source": [
        "import numpy as np\n",
        "\n",
        "# NumPy Array\n",
        "arr = np.array([1, 2, 3])\n",
        "\n",
        "# Vectorized operation: Adding 2 to each element\n",
        "result = arr + 2\n",
        "print(result)  # [3 4 5]\n"
      ],
      "metadata": {
        "id": "kBWwRk75jzOx"
      },
      "execution_count": null,
      "outputs": []
    },
    {
      "cell_type": "markdown",
      "source": [
        "9. How does Matplotlib differ from Plotly?\n",
        "   - Matplotlib and Plotly are both popular plotting libraries, but they differ in several aspects:\n",
        "\n",
        "Interactivity:\n",
        "\n",
        "Matplotlib: Static plots, meaning you cannot interact with the plots (e.g., zoom, hover).\n",
        "Plotly: Interactive plots, allowing zooming, panning, tooltips, and dynamic updates.\n",
        "\n",
        "Customization:\n",
        "\n",
        "Matplotlib: Offers fine-grained control over plot appearance and layout, but requires more code for customization.\n",
        "Plotly: Easier to create interactive and attractive plots with less code.\n",
        "\n",
        "Use Case:\n",
        "\n",
        "Matplotlib: Better for static visualizations like in reports or publications.\n",
        "Plotly: Ideal for dashboards or interactive web-based data visualizations.\n",
        "\n",
        "\n",
        "\n"
      ],
      "metadata": {
        "id": "bqgzXB5Bj6Rt"
      }
    },
    {
      "cell_type": "code",
      "source": [
        "import matplotlib.pyplot as plt\n",
        "\n",
        "x = [1, 2, 3, 4]\n",
        "y = [10, 20, 25, 30]\n",
        "\n",
        "plt.plot(x, y)\n",
        "plt.show()  # Static plot\n"
      ],
      "metadata": {
        "id": "GoGh3jkamRjI"
      },
      "execution_count": null,
      "outputs": []
    },
    {
      "cell_type": "markdown",
      "source": [
        "10. What is the significance of hierarchical indexing in Pandas?\n",
        "    - Hierarchical indexing in Pandas allows for multi-level indexing of data, enabling the creation of more complex and organized structures. It is useful when working with large datasets that have multiple dimensions, such as time series or grouped data, making it easier to manipulate and analyze data at different levels of granularity.\n",
        "\n",
        "Significance:\n",
        "Multiple Levels: Enables multiple levels of indexing (rows and columns), improving data organization.\n",
        "\n",
        "Improved Data Selection: Allows selection and filtering of data using multiple levels of indexing.\n",
        "\n",
        "Efficient Data Aggregation: Simplifies operations like grouping and aggregating data by different levels."
      ],
      "metadata": {
        "id": "oQbnpsVVmhAh"
      }
    },
    {
      "cell_type": "code",
      "source": [
        "import pandas as pd\n",
        "\n",
        "# Creating a MultiIndex DataFrame\n",
        "arrays = [['A', 'A', 'B', 'B'], ['one', 'two', 'one', 'two']]\n",
        "index = pd.MultiIndex.from_arrays(arrays, names=('Category', 'Subcategory'))\n",
        "\n",
        "data = {'Value': [10, 15, 20, 25]}\n",
        "df = pd.DataFrame(data, index=index)\n",
        "\n",
        "print(df)\n"
      ],
      "metadata": {
        "id": "wQRjsnFfnpRu"
      },
      "execution_count": null,
      "outputs": []
    },
    {
      "cell_type": "markdown",
      "source": [
        "11. What is the role of Seaborn's pairplot() function?\n",
        "    - The pairplot() function in Seaborn is used to create a grid of scatter plots for pairwise relationships between numerical columns in a dataset. It also displays histograms or kernel density plots along the diagonal, offering a quick way to explore correlations and distributions in multivariate data.\n",
        "\n",
        "Role:\n",
        "Visualizes relationships between multiple numeric variables.\n",
        "Identifies patterns, correlations, and distributions.\n",
        "Useful for exploratory data analysis (EDA) to detect trends and outliers."
      ],
      "metadata": {
        "id": "WfnXh2PmnsZ_"
      }
    },
    {
      "cell_type": "code",
      "source": [
        "import seaborn as sns\n",
        "import matplotlib.pyplot as plt\n",
        "\n",
        "# Sample dataset\n",
        "iris = sns.load_dataset('iris')\n",
        "\n",
        "# Create pairplot\n",
        "sns.pairplot(iris, hue='species')\n",
        "plt.show()\n"
      ],
      "metadata": {
        "id": "PTAl5EHIoW6T"
      },
      "execution_count": null,
      "outputs": []
    },
    {
      "cell_type": "markdown",
      "source": [
        "12. What is the purpose of the describe() function in Pandas?\n",
        "    - The describe() function in Pandas is used to generate a summary of statistics for numerical columns in a DataFrame. It provides key measures such as count, mean, standard deviation, minimum, maximum, and quartiles (25th, 50th, and 75th percentiles).\n",
        "\n",
        "Purpose:\n",
        "Quickly summarizes the statistical properties of the data.\n",
        "Helps in understanding the distribution, spread, and central tendency of numerical variables."
      ],
      "metadata": {
        "id": "ngGRWppioctv"
      }
    },
    {
      "cell_type": "code",
      "source": [
        "import pandas as pd\n",
        "\n",
        "# Sample data\n",
        "data = {'Age': [25, 30, 35, 40, 45],\n",
        "        'Salary': [50000, 60000, 70000, 80000, 90000]}\n",
        "df = pd.DataFrame(data)\n",
        "\n",
        "# Generate summary statistics\n",
        "summary = df.describe()\n",
        "\n",
        "print(summary)\n"
      ],
      "metadata": {
        "id": "-KqDAcl-o76u"
      },
      "execution_count": null,
      "outputs": []
    },
    {
      "cell_type": "markdown",
      "source": [
        "13. Why is handling missing data important in Pandas?\n",
        "    - Handling missing data in Pandas is crucial because missing or NaN values can lead to incorrect analysis, skewed results, and errors in computations. Proper handling ensures accurate data analysis, cleaner models, and more reliable insights.\n",
        "\n",
        "Importance:\n",
        "Accurate Analysis: Missing data can distort statistical measures like mean, median, and standard deviation.\n",
        "Avoiding Errors: Many operations in Pandas and machine learning models fail or give incorrect results with missing values.\n",
        "Data Integrity: Ensures that models and analysis are built on complete and clean data."
      ],
      "metadata": {
        "id": "za4vYcrIpC4h"
      }
    },
    {
      "cell_type": "code",
      "source": [
        "import pandas as pd\n",
        "\n",
        "# Sample data with missing values\n",
        "data = {'Name': ['Alice', 'Bob', 'Charlie', None],\n",
        "        'Age': [25, 30, None, 35]}\n",
        "df = pd.DataFrame(data)\n",
        "\n",
        "# Handle missing data by filling with a default value\n",
        "df_filled = df.fillna({'Name': 'Unknown', 'Age': df['Age'].mean()})\n",
        "\n",
        "print(df_filled)\n"
      ],
      "metadata": {
        "id": "P6mgFT6npfA5"
      },
      "execution_count": null,
      "outputs": []
    },
    {
      "cell_type": "markdown",
      "source": [
        "14. What are the benefits of using Plotly for data visualization?\n",
        "    - Plotly is a powerful visualization library that provides several benefits for data visualization:\n",
        "\n",
        "Benefits:\n",
        "Interactivity: Plotly creates interactive plots with features like zooming, panning, and tooltips.\n",
        "Ease of Use: Simple syntax and high-level functions make it easy to create complex visualizations.\n",
        "Integration with Dash: It integrates well with Dash to create web-based dashboards.\n",
        "Publication-Quality Visuals: Produces attractive and professional-looking visualizations.\n",
        "Support for Multiple Plot Types: It supports a wide range of visualizations, including 3D plots, maps, and statistical charts.\n",
        "\n",
        "\n",
        "\n",
        "\n"
      ],
      "metadata": {
        "id": "hUZpXCUQpkw5"
      }
    },
    {
      "cell_type": "code",
      "source": [
        "import plotly.express as px\n",
        "\n",
        "# Sample data\n",
        "df = px.data.iris()\n",
        "\n",
        "# Create an interactive scatter plot\n",
        "fig = px.scatter(df, x='sepal_width', y='sepal_length', color='species')\n",
        "fig.show()\n"
      ],
      "metadata": {
        "id": "gYAUEwTwqq6y"
      },
      "execution_count": null,
      "outputs": []
    },
    {
      "cell_type": "markdown",
      "source": [
        "15. How does NumPy handle multidimensional arrays?\n",
        "    - NumPy handles multidimensional arrays using the ndarray object, which can represent arrays with any number of dimensions (1D, 2D, 3D, etc.). This allows efficient storage and manipulation of large datasets in a structured form.\n",
        "\n",
        "Key Features:\n",
        "\n",
        "Shape: Defines the dimensions of the array (e.g., rows and columns in 2D).\n",
        "Indexing and Slicing: Supports advanced indexing and slicing across multiple dimensions.\n",
        "\n",
        "Efficient Operations: Allows vectorized operations and broadcasting across arrays."
      ],
      "metadata": {
        "id": "WzXHHF2oqsTD"
      }
    },
    {
      "cell_type": "code",
      "source": [
        "import numpy as np\n",
        "\n",
        "# Create a 2D array (matrix)\n",
        "arr_2d = np.array([[1, 2, 3], [4, 5, 6]])\n",
        "\n",
        "# Accessing an element\n",
        "print(arr_2d[1, 2])  # Output: 6\n",
        "\n",
        "# Creating a 3D array\n",
        "arr_3d = np.array([[[1, 2], [3, 4]], [[5, 6], [7, 8]]])\n",
        "\n",
        "# Accessing an element in 3D array\n",
        "print(arr_3d[1, 0, 1])  # Output: 6\n"
      ],
      "metadata": {
        "id": "xt_a4VEns5Lr"
      },
      "execution_count": null,
      "outputs": []
    },
    {
      "cell_type": "markdown",
      "source": [
        "16. What is the role of Bokeh in data visualization?\n",
        "    - Bokeh is a powerful data visualization library in Python that is used to create interactive, web-based visualizations. It is designed to handle large datasets efficiently and provides a wide range of interactive features, making it ideal for creating dashboards, reports, and data exploration tools.\n",
        "\n",
        "Role of Bokeh:\n",
        "Interactive Visualizations: Allows zooming, panning, and tooltips to explore data dynamically.\n",
        "Web-Ready: Visualizations can be easily embedded into web applications.\n",
        "Scalability: Handles large datasets efficiently and renders them in the browser.\n",
        "Customization: Offers detailed control over plot appearance, axes, and tools."
      ],
      "metadata": {
        "id": "Tozf8xVytDYt"
      }
    },
    {
      "cell_type": "code",
      "source": [
        "from bokeh.plotting import figure, show\n",
        "\n",
        "# Create a figure\n",
        "p = figure(title=\"Simple Line Plot\", x_axis_label='X', y_axis_label='Y')\n",
        "\n",
        "# Add a line renderer\n",
        "p.line([1, 2, 3, 4], [10, 20, 30, 40], legend_label=\"Line\", line_width=2)\n",
        "\n",
        "# Show the plot\n",
        "show(p)\n"
      ],
      "metadata": {
        "id": "1ae-uJC6vEAC"
      },
      "execution_count": null,
      "outputs": []
    },
    {
      "cell_type": "markdown",
      "source": [
        "17. Explain the difference between apply() and map() in Pandas\n",
        "    - The apply() and map() functions in Pandas are both used to apply functions to data, but they have some key differences in their behavior and use cases.\n",
        "\n",
        "Difference:\n",
        "apply(): Used to apply a function along a specific axis (rows or columns) of a DataFrame or Series. It is more versatile and can handle complex operations on the entire DataFrame.\n",
        "map(): Primarily used to map values in a Series using a function, dictionary, or mapping, but it cannot operate on DataFrames directly."
      ],
      "metadata": {
        "id": "5vybXYsHvIrf"
      }
    },
    {
      "cell_type": "code",
      "source": [
        "import pandas as pd\n",
        "\n",
        "# DataFrame example\n",
        "df = pd.DataFrame({'A': [1, 2, 3], 'B': [4, 5, 6]})\n",
        "\n",
        "# Apply a function to each column\n",
        "df.apply(lambda x: x.sum())  # Summing each column\n"
      ],
      "metadata": {
        "id": "jewC-OUJvvr7"
      },
      "execution_count": null,
      "outputs": []
    },
    {
      "cell_type": "markdown",
      "source": [
        "18. What are some advanced features of NumPy?\n",
        "    - NumPy provides several advanced features that make it a powerful library for numerical computing. These features include broadcasting, advanced indexing, vectorized operations, and working with multi-dimensional arrays.\n",
        "\n",
        "Advanced Features:\n",
        "Broadcasting: Broadcasting allows NumPy to perform operations on arrays of different shapes by automatically expanding the smaller array to match the shape of the larger one."
      ],
      "metadata": {
        "id": "p6AdXYzPv4fR"
      }
    },
    {
      "cell_type": "code",
      "source": [
        "import numpy as np\n",
        "\n",
        "# A 2D array\n",
        "arr = np.array([[1, 2], [3, 4]])\n",
        "\n",
        "# A 1D array (will be broadcasted across each row)\n",
        "result = arr + np.array([10, 20])\n",
        "print(result)\n"
      ],
      "metadata": {
        "id": "auhQsmt8wMO2"
      },
      "execution_count": null,
      "outputs": []
    },
    {
      "cell_type": "markdown",
      "source": [
        "19. How does Pandas simplify time series analysis?\n",
        "    - Pandas simplifies time series analysis by providing powerful tools to handle and manipulate time-based data. It allows easy handling of dates and times, resampling, and moving window operations, which are essential for analyzing trends, seasonal patterns, and irregular time intervals in time series data.\n",
        "\n",
        "Key Features:\n",
        "Datetime Handling: Easy conversion between strings and datetime objects.\n",
        "Resampling: Aggregating or resampling data to different time frequencies.\n",
        "Rolling and Window Functions: Applying moving averages and other window functions.\n",
        "Time-Based Indexing: Simplifies indexing and selecting data based on date"
      ],
      "metadata": {
        "id": "kGT7kj1zwUaI"
      }
    },
    {
      "cell_type": "code",
      "source": [
        "import pandas as pd\n",
        "\n",
        "# Sample time series data\n",
        "data = {'Date': ['2021-01-01', '2021-01-02', '2021-01-03', '2021-01-04'],\n",
        "        'Value': [10, 20, 25, 30]}\n",
        "df = pd.DataFrame(data)\n",
        "\n",
        "# Convert 'Date' to datetime\n",
        "df['Date'] = pd.to_datetime(df['Date'])\n",
        "\n",
        "# Set 'Date' as the index\n",
        "df.set_index('Date', inplace=True)\n",
        "\n",
        "# Resample data to weekly frequency (sum the values)\n",
        "weekly_data = df.resample('W').sum()\n",
        "\n",
        "print(weekly_data)\n"
      ],
      "metadata": {
        "id": "j5Jm2ha3xFuF"
      },
      "execution_count": null,
      "outputs": []
    },
    {
      "cell_type": "markdown",
      "source": [
        "20. What is the role of a pivot table in Pandas?\n",
        "    - A pivot table in Pandas is used to summarize and aggregate data in a DataFrame, allowing you to reshape the data by transforming unique values from one column into multiple columns. It’s commonly used for summarizing data by applying aggregation functions (like sum, mean, count) across different categories.\n",
        "\n",
        "Role:\n",
        "Summarization: Allows easy summarization and aggregation of data based on one or more categorical columns.\n",
        "Reshaping Data: Helps transform data from long format to wide format.\n",
        "Group-Based Analysis: Useful for segmenting and analyzing data by categories."
      ],
      "metadata": {
        "id": "u1MJBXzhxKcF"
      }
    },
    {
      "cell_type": "code",
      "source": [
        "import pandas as pd\n",
        "\n",
        "# Sample data\n",
        "data = {'Category': ['A', 'B', 'A', 'B', 'A'],\n",
        "        'Subcategory': ['X', 'X', 'Y', 'Y', 'X'],\n",
        "        'Value': [10, 20, 30, 40, 50]}\n",
        "\n",
        "df = pd.DataFrame(data)\n",
        "\n",
        "# Create a pivot table\n",
        "pivot_table = df.pivot_table(values='Value', index='Category', columns='Subcategory', aggfunc='sum')\n",
        "\n",
        "print(pivot_table)\n"
      ],
      "metadata": {
        "id": "Dic8ghBMxh8n"
      },
      "execution_count": null,
      "outputs": []
    },
    {
      "cell_type": "markdown",
      "source": [
        "21. Why is NumPy's array slicing faster than Python's list slicing?\n",
        "    - NumPy's array slicing is faster than Python's list slicing because of several key reasons related to how NumPy arrays are stored and processed ⁉\n",
        "\n",
        "\n",
        "1. Contiguous Memory Allocation:\n",
        "NumPy arrays are stored in contiguous blocks of memory, which allows for efficient access and manipulation of elements. This is important for slicing, as NumPy can directly reference memory blocks without needing to copy or rearrange data.\n",
        "Python lists, on the other hand, are implemented as arrays of pointers to objects, which results in less efficient memory access when slicing.\n",
        "\n",
        "\n",
        "2. Vectorized Operations:\n",
        "NumPy operations are vectorized, meaning they are written in low-level, optimized C code, which allows for fast, element-wise operations without the need for explicit loops.\n",
        "Python lists are more general-purpose, and slicing involves creating new lists by copying elements one by one, which is slower.\n",
        "\n",
        "\n",
        "3. No Data Copying in Slicing:\n",
        "In NumPy, slicing creates a view on the original array (unless explicitly copied), meaning it doesn't need to allocate new memory or copy data. This is efficient for large datasets.\n",
        "In Python lists, slicing creates a new list by copying the sliced elements, which introduces additional overhead."
      ],
      "metadata": {
        "id": "ksB8IkNBxnEg"
      }
    },
    {
      "cell_type": "code",
      "source": [
        "import numpy as np\n",
        "import time\n",
        "\n",
        "# NumPy array\n",
        "arr = np.arange(1000000)\n",
        "\n",
        "# Python list\n",
        "py_list = list(range(1000000))\n",
        "\n",
        "# Time slicing NumPy array\n",
        "start = time.time()\n",
        "arr_slice = arr[100:200]\n",
        "print(\"NumPy slicing time:\", time.time() - start)\n",
        "\n",
        "# Time slicing Python list\n",
        "start = time.time()\n",
        "list_slice = py_list[100:200]\n",
        "print(\"Python list slicing time:\", time.time() - start)\n"
      ],
      "metadata": {
        "id": "xsbWvqoGy0Vn"
      },
      "execution_count": null,
      "outputs": []
    },
    {
      "cell_type": "markdown",
      "source": [
        "22. What are some common use cases for Seaborn?\n",
        "    - Seaborn is a powerful visualization library in Python built on top of Matplotlib, providing a high-level interface for creating attractive and informative statistical plots. Some common use cases include:\n",
        "    \n",
        "\n",
        "1. Visualizing Distributions:\n",
        "Seaborn is frequently used to visualize the distribution of data, including histograms, density plots, and box plots."
      ],
      "metadata": {
        "id": "v_uPCewky6H9"
      }
    },
    {
      "cell_type": "code",
      "source": [
        "import seaborn as sns\n",
        "import matplotlib.pyplot as plt\n",
        "\n",
        "# Load a sample dataset\n",
        "df = sns.load_dataset('iris')\n",
        "\n",
        "# Create a box plot to visualize distribution of 'sepal_length'\n",
        "sns.boxplot(x='species', y='sepal_length', data=df)\n",
        "plt.show()\n"
      ],
      "metadata": {
        "id": "LB-nxun3z1zz"
      },
      "execution_count": null,
      "outputs": []
    },
    {
      "cell_type": "markdown",
      "source": [
        "2. Correlation and Heatmaps:\n",
        "Seaborn is ideal for visualizing correlations between variables using heatmaps, which display a matrix of values in a color-coded format."
      ],
      "metadata": {
        "id": "fs5BFf5iz4Ew"
      }
    },
    {
      "cell_type": "code",
      "source": [
        "# Create a heatmap for correlation matrix\n",
        "corr = df.corr()\n",
        "sns.heatmap(corr, annot=True, cmap='coolwarm')\n",
        "plt.show()\n"
      ],
      "metadata": {
        "id": "1iIcWFmU0As0"
      },
      "execution_count": null,
      "outputs": []
    },
    {
      "cell_type": "markdown",
      "source": [
        "3. Visualizing Relationships Between Variables:\n",
        "Seaborn provides easy-to-use functions for scatter plots, regression plots, and pair plots to visualize relationships between two or more variables."
      ],
      "metadata": {
        "id": "ashcMh1j0D_e"
      }
    },
    {
      "cell_type": "code",
      "source": [
        "# Scatter plot with regression line\n",
        "sns.regplot(x='sepal_length', y='sepal_width', data=df)\n",
        "plt.show()\n"
      ],
      "metadata": {
        "id": "As96O_2t0Izc"
      },
      "execution_count": null,
      "outputs": []
    },
    {
      "cell_type": "markdown",
      "source": [
        "# PRACTICAL QUESTIONS\n",
        "\n",
        "1. How do you create a 2D NumPy array and calculate the sum of each row?\n",
        "  - To create a 2D NumPy array and calculate the sum of each row, you can follow these steps:\n",
        "\n",
        "Steps:\n",
        "Create a 2D array using np.array().\n",
        "Use the sum() function with the axis=1 argument to calculate the sum of each row (axis=1 corresponds to rows).\n"
      ],
      "metadata": {
        "id": "O8kl3Why0Lz_"
      }
    },
    {
      "cell_type": "code",
      "source": [
        "import numpy as np\n",
        "\n",
        "# Create a 2D NumPy array (3 rows, 4 columns)\n",
        "arr = np.array([[1, 2, 3, 4], [5, 6, 7, 8], [9, 10, 11, 12]])\n",
        "\n",
        "# Calculate the sum of each row\n",
        "row_sums = arr.sum(axis=1)\n",
        "\n",
        "print(row_sums)\n"
      ],
      "metadata": {
        "id": "zLua4RQs5QmI"
      },
      "execution_count": null,
      "outputs": []
    },
    {
      "cell_type": "markdown",
      "source": [
        "2. Write a Pandas script to find the mean of a specific column in a DataFrame\n",
        "   - Here’s a Pandas script to find the mean of a specific column in a DataFrame:"
      ],
      "metadata": {
        "id": "fDfIkUiRFI_1"
      }
    },
    {
      "cell_type": "code",
      "source": [
        "import pandas as pd\n",
        "\n",
        "# Sample DataFrame\n",
        "data = {'Name': ['Alice', 'Bob', 'Charlie', 'David'],\n",
        "        'Age': [25, 30, 35, 40]}\n",
        "\n",
        "df = pd.DataFrame(data)\n",
        "\n",
        "# Calculate the mean of the 'Age' column\n",
        "mean_age = df['Age'].mean()\n",
        "\n",
        "print(\"Mean Age:\", mean_age)\n"
      ],
      "metadata": {
        "id": "03et7ofbFakK"
      },
      "execution_count": null,
      "outputs": []
    },
    {
      "cell_type": "markdown",
      "source": [
        "Explanation:\n",
        "The DataFrame df has a column 'Age'.\n",
        "The .mean() function calculates the mean of the values in the 'Age' column."
      ],
      "metadata": {
        "id": "V9P5_PHIFiVu"
      }
    },
    {
      "cell_type": "markdown",
      "source": [
        "3. Create a scatter plot using Matplotlib\n",
        "   - Here’s a script to create a scatter plot using Matplotlib"
      ],
      "metadata": {
        "id": "-RqIlBn6Fjof"
      }
    },
    {
      "cell_type": "code",
      "source": [
        "import matplotlib.pyplot as plt\n",
        "\n",
        "# Sample data\n",
        "x = [1, 2, 3, 4, 5]\n",
        "y = [2, 4, 6, 8, 10]\n",
        "\n",
        "# Create a scatter plot\n",
        "plt.scatter(x, y)\n",
        "\n",
        "# Add labels and title\n",
        "plt.xlabel('X-axis')\n",
        "plt.ylabel('Y-axis')\n",
        "plt.title('Scatter Plot Example')\n",
        "\n",
        "# Show the plot\n",
        "plt.show()\n"
      ],
      "metadata": {
        "id": "Qxr3FzYQGAWp"
      },
      "execution_count": null,
      "outputs": []
    },
    {
      "cell_type": "markdown",
      "source": [
        "Explanation:\n",
        "plt.scatter(x, y) creates the scatter plot with x and y as data points.\n",
        "plt.xlabel(), plt.ylabel(), and plt.title() add labels and a title to the plot.\n",
        "plt.show() displays the plot."
      ],
      "metadata": {
        "id": "FEZHblrAGDhd"
      }
    },
    {
      "cell_type": "markdown",
      "source": [
        "4. How do you calculate the correlation matrix using Seaborn and visualize it with a heatmap?\n",
        "   - Here’s a script to calculate the correlation matrix using Seaborn and visualize it with a heatmap:"
      ],
      "metadata": {
        "id": "1tWaJrAyGI8-"
      }
    },
    {
      "cell_type": "code",
      "source": [
        "import seaborn as sns\n",
        "import matplotlib.pyplot as plt\n",
        "\n",
        "# Sample DataFrame\n",
        "data = sns.load_dataset('iris')\n",
        "\n",
        "# Calculate the correlation matrix\n",
        "corr_matrix = data.corr()\n",
        "\n",
        "# Create a heatmap to visualize the correlation matrix\n",
        "sns.heatmap(corr_matrix, annot=True, cmap='coolwarm', fmt='.2f', linewidths=0.5)\n",
        "\n",
        "# Show the plot\n",
        "plt.title('Correlation Matrix Heatmap')\n",
        "plt.show()\n"
      ],
      "metadata": {
        "id": "ExwLMM5aGcJR"
      },
      "execution_count": null,
      "outputs": []
    },
    {
      "cell_type": "markdown",
      "source": [
        "Explanation:\n",
        "data.corr() calculates the correlation matrix of the DataFrame data.\n",
        "sns.heatmap() visualizes the correlation matrix as a heatmap, with annot=True to display the correlation values.\n",
        "cmap='coolwarm' specifies the color scheme, and fmt='.2f' formats the numbers to two decimal places."
      ],
      "metadata": {
        "id": "z3a1gpkQGend"
      }
    },
    {
      "cell_type": "markdown",
      "source": [
        "5. Generate a bar plot using Plotly.\n",
        "   - Here is the full script to generate a bar plot using Plotly:"
      ],
      "metadata": {
        "id": "x2NdcSX5GpZG"
      }
    },
    {
      "cell_type": "code",
      "source": [
        "import pandas as pd\n",
        "import plotly.express as px\n",
        "\n",
        "# Sample data\n",
        "data = {\n",
        "    'Category': ['A', 'B', 'C', 'D'],\n",
        "    'Value': [10, 20, 15, 30]\n",
        "}\n",
        "\n",
        "# Create a DataFrame from the sample data\n",
        "df = pd.DataFrame(data)\n",
        "\n",
        "# Create a bar plot using Plotly\n",
        "fig = px.bar(df, x='Category', y='Value', title='Bar Plot Example')\n",
        "\n",
        "# Show the plot\n",
        "fig.show()\n"
      ],
      "metadata": {
        "id": "hENMORdUG-Hr"
      },
      "execution_count": null,
      "outputs": []
    },
    {
      "cell_type": "markdown",
      "source": [
        "Explanation:\n",
        "Data Creation: We create a dictionary data and convert it into a Pandas DataFrame df.\n",
        "\n",
        "Bar Plot: px.bar() is used to generate a bar plot where:\n",
        "x='Category': Defines the x-axis using the 'Category' column.\n",
        "y='Value': Defines the y-axis using the 'Value' column.\n",
        "title='Bar Plot Example': Adds a title to the plot.\n",
        "\n",
        "Displaying the Plot: fig.show() renders and displays the plot in your browser or notebook."
      ],
      "metadata": {
        "id": "ges4KkdgHBeG"
      }
    },
    {
      "cell_type": "markdown",
      "source": [
        "6. Create a DataFrame and add a new column based on an existing column.\n",
        "   - Here’s a script to create a DataFrame and add a new column based on an existing column :\n"
      ],
      "metadata": {
        "id": "RhyervKhHFoo"
      }
    },
    {
      "cell_type": "code",
      "source": [
        "import pandas as pd\n",
        "\n",
        "# Create a sample DataFrame\n",
        "data = {\n",
        "    'Name': ['Alice', 'Bob', 'Charlie', 'David'],\n",
        "    'Age': [25, 30, 35, 40]\n",
        "}\n",
        "\n",
        "df = pd.DataFrame(data)\n",
        "\n",
        "# Add a new column 'Age_in_10_years' based on 'Age'\n",
        "df['Age_in_10_years'] = df['Age'] + 10\n",
        "\n",
        "# Display the updated DataFrame\n",
        "print(df)\n"
      ],
      "metadata": {
        "id": "TAhmUUFAHwY2"
      },
      "execution_count": null,
      "outputs": []
    },
    {
      "cell_type": "markdown",
      "source": [
        "Explanation:\n",
        "A new column 'Age_in_10_years' is added to the DataFrame by applying a transformation on the existing 'Age' column. In this case, we add 10 to the values of 'Age'."
      ],
      "metadata": {
        "id": "sFl5NptlHzyi"
      }
    },
    {
      "cell_type": "markdown",
      "source": [
        "7. Write a program to perform element-wise multiplication of two NumPy arrays.\n",
        "   - Python program to perform element-wise multiplication of two NumPy arrays:"
      ],
      "metadata": {
        "id": "h2OP4-iFH4D7"
      }
    },
    {
      "cell_type": "code",
      "source": [
        "import numpy as np\n",
        "\n",
        "# Create two NumPy arrays\n",
        "arr1 = np.array([1, 2, 3, 4])\n",
        "arr2 = np.array([5, 6, 7, 8])\n",
        "\n",
        "# Perform element-wise multiplication\n",
        "result = arr1 * arr2\n",
        "\n",
        "# Display the result\n",
        "print(\"Element-wise multiplication result:\", result)\n"
      ],
      "metadata": {
        "id": "O4ZnoNkJIH7H"
      },
      "execution_count": null,
      "outputs": []
    },
    {
      "cell_type": "markdown",
      "source": [
        "Explanation:\n",
        "arr1 * arr2 performs element-wise multiplication of the two arrays.\n",
        "The operation multiplies corresponding elements from arr1 and arr2:\n",
        "1 * 5 = 5\n",
        "2 * 6 = 12\n",
        "3 * 7 = 21\n",
        "4 * 8 = 32"
      ],
      "metadata": {
        "id": "c2_1FOFeIMUU"
      }
    },
    {
      "cell_type": "markdown",
      "source": [
        "8. Create a line plot with multiple lines using Matplotlib.\n",
        "   - Script to create a line plot with multiple lines using Matplotlib:"
      ],
      "metadata": {
        "id": "_JbjsffpIQWX"
      }
    },
    {
      "cell_type": "code",
      "source": [
        "import matplotlib.pyplot as plt\n",
        "\n",
        "# Sample data for multiple lines\n",
        "x = [1, 2, 3, 4, 5]\n",
        "y1 = [1, 4, 9, 16, 25]\n",
        "y2 = [1, 8, 27, 64, 125]\n",
        "\n",
        "# Create a line plot with multiple lines\n",
        "plt.plot(x, y1, label='y = x^2', marker='o')  # Line 1 (y = x^2)\n",
        "plt.plot(x, y2, label='y = x^3', marker='s')  # Line 2 (y = x^3)\n",
        "\n",
        "# Adding labels and title\n",
        "plt.xlabel('X-axis')\n",
        "plt.ylabel('Y-axis')\n",
        "plt.title('Line Plot with Multiple Lines')\n",
        "\n",
        "# Show legend\n",
        "plt.legend()\n",
        "\n",
        "# Display the plot\n",
        "plt.show()\n"
      ],
      "metadata": {
        "id": "mISVQPanIjdp"
      },
      "execution_count": null,
      "outputs": []
    },
    {
      "cell_type": "markdown",
      "source": [
        "Explanation:\n",
        "Data: We have two sets of data (y1 and y2) corresponding to two different mathematical functions.\n",
        "\n",
        "Plotting Multiple Lines: plt.plot() is used for each line. The label parameter is used to specify the legend for each line.\n",
        "\n",
        "Customization:\n",
        "marker='o' and marker='s' specify different markers for each line.\n",
        "plt.legend() displays the legend.\n",
        "\n",
        "Displaying the Plot: plt.show() renders the plot"
      ],
      "metadata": {
        "id": "SkbkJ8IEIma9"
      }
    },
    {
      "cell_type": "markdown",
      "source": [
        "9. Generate a Pandas DataFrame and filter rows where a column value is greater than a threshold.\n",
        "   - Script to generate a Pandas DataFrame and filter rows where a column value is greater than a threshold:"
      ],
      "metadata": {
        "id": "6LWHPjdNIxW-"
      }
    },
    {
      "cell_type": "code",
      "source": [
        "import pandas as pd\n",
        "\n",
        "# Create a sample DataFrame\n",
        "data = {\n",
        "    'Name': ['Alice', 'Bob', 'Charlie', 'David', 'Eva'],\n",
        "    'Age': [25, 30, 35, 40, 45]\n",
        "}\n",
        "\n",
        "df = pd.DataFrame(data)\n",
        "\n",
        "# Set a threshold\n",
        "threshold = 30\n",
        "\n",
        "# Filter rows where 'Age' is greater than the threshold\n",
        "filtered_df = df[df['Age'] > threshold]\n",
        "\n",
        "# Display the filtered DataFrame\n",
        "print(filtered_df)\n"
      ],
      "metadata": {
        "id": "Lozd2r78JITK"
      },
      "execution_count": null,
      "outputs": []
    },
    {
      "cell_type": "markdown",
      "source": [
        "Explanation:\n",
        "The DataFrame df is created with columns 'Name' and 'Age'.\n",
        "\n",
        "The condition df['Age'] > threshold filters rows where the 'Age' value is greater than 30.\n",
        "\n",
        "The resulting filtered_df only contains rows with 'Age' greater than 30."
      ],
      "metadata": {
        "id": "6-mjOvLlJLvQ"
      }
    },
    {
      "cell_type": "markdown",
      "source": [
        "10. Create a histogram using Seaborn to visualize a distribution.\n",
        "    - Here’s a short script to create a histogram using Seaborn to visualize a distribution:"
      ],
      "metadata": {
        "id": "lbXE7HACJPax"
      }
    },
    {
      "cell_type": "code",
      "source": [
        "import seaborn as sns\n",
        "import matplotlib.pyplot as plt\n",
        "\n",
        "# Sample data: Distribution of ages\n",
        "data = [22, 23, 25, 27, 29, 30, 31, 32, 35, 36, 40, 41, 42, 45, 50, 52, 55, 60]\n",
        "\n",
        "# Create a Seaborn histogram\n",
        "sns.histplot(data, kde=True, bins=10, color='skyblue')\n",
        "\n",
        "# Add labels and title\n",
        "plt.xlabel('Age')\n",
        "plt.ylabel('Frequency')\n",
        "plt.title('Age Distribution')\n",
        "\n",
        "# Show the plot\n",
        "plt.show()\n"
      ],
      "metadata": {
        "id": "7MpkbbA-Jmk9"
      },
      "execution_count": null,
      "outputs": []
    },
    {
      "cell_type": "markdown",
      "source": [
        "Explanation:\n",
        "sns.histplot() creates a histogram for the given data.\n",
        "\n",
        "kde=True adds a Kernel Density Estimate (smooth curve) over the histogram.\n",
        "bins=10 sets the number of bins for the histogram.\n",
        "\n",
        "color='skyblue' specifies the color of the bars.\n",
        "\n",
        "plt.xlabel(), plt.ylabel(), and plt.title() are used to add labels and a title to the plot.\n",
        "\n",
        "plt.show() displays the histogram."
      ],
      "metadata": {
        "id": "UfpRR-J2Jpxc"
      }
    },
    {
      "cell_type": "markdown",
      "source": [
        "11. Perform matrix multiplication using NumPy.\n",
        "    -  Script to perform matrix multiplication using NumPy"
      ],
      "metadata": {
        "id": "hZhcLqU-J0pD"
      }
    },
    {
      "cell_type": "code",
      "source": [
        "import numpy as np\n",
        "\n",
        "# Create two matrices\n",
        "matrix1 = np.array([[1, 2], [3, 4]])\n",
        "matrix2 = np.array([[5, 6], [7, 8]])\n",
        "\n",
        "# Perform matrix multiplication\n",
        "result = np.matmul(matrix1, matrix2)\n",
        "\n",
        "# Display the result\n",
        "print(\"Matrix multiplication result:\\n\", result)\n"
      ],
      "metadata": {
        "id": "nfgMdUt7KDJb"
      },
      "execution_count": null,
      "outputs": []
    },
    {
      "cell_type": "markdown",
      "source": [
        "Explanation:\n",
        "matrix1 and matrix2 are two 2x2 matrices.\n",
        "\n",
        "np.matmul(matrix1, matrix2) performs matrix multiplication (the dot product of the matrices).\n",
        "\n",
        "The result is a new matrix where each element is the dot product of the rows of the first matrix and the columns of the second matrix."
      ],
      "metadata": {
        "id": "FPPURxCHKI9z"
      }
    },
    {
      "cell_type": "markdown",
      "source": [
        "12. Use Pandas to load a CSV file and display its first 5 rows.\n",
        "    - Script to load a CSV file using Pandas and display the first 5 rows:"
      ],
      "metadata": {
        "id": "yKOYPswIKWth"
      }
    },
    {
      "cell_type": "code",
      "source": [
        "import pandas as pd\n",
        "\n",
        "# Load the CSV file (replace 'your_file.csv' with the actual file path)\n",
        "df = pd.read_csv('your_file.csv')\n",
        "\n",
        "# Display the first 5 rows of the DataFrame\n",
        "print(df.head())\n"
      ],
      "metadata": {
        "id": "cllSL4XIKoKw"
      },
      "execution_count": null,
      "outputs": []
    },
    {
      "cell_type": "markdown",
      "source": [
        "Explanation:\n",
        "pd.read_csv('your_file.csv') reads the CSV file into a Pandas DataFrame.\n",
        "\n",
        "df.head() displays the first 5 rows of the DataFrame by default.\n",
        "\n",
        "Make sure to replace 'your_file.csv' with the actual file path of your CSV file."
      ],
      "metadata": {
        "id": "h_Vx4NEpKqr-"
      }
    },
    {
      "cell_type": "markdown",
      "source": [
        "13. Create a 3D scatter plot using Plotly.\n",
        "    - Script to create a 3D scatter plot using Plotly:"
      ],
      "metadata": {
        "id": "sPopphSOKxJo"
      }
    },
    {
      "cell_type": "code",
      "source": [
        "import plotly.express as px\n",
        "import pandas as pd\n",
        "\n",
        "# Sample data for 3D scatter plot\n",
        "data = {\n",
        "    'X': [1, 2, 3, 4, 5],\n",
        "    'Y': [2, 3, 4, 5, 6],\n",
        "    'Z': [5, 6, 7, 8, 9],\n",
        "    'Color': ['red', 'green', 'blue', 'orange', 'purple']  # Color based on data\n",
        "}\n",
        "\n",
        "# Create a DataFrame\n",
        "df = pd.DataFrame(data)\n",
        "\n",
        "# Create a 3D scatter plot\n",
        "fig = px.scatter_3d(df, x='X', y='Y', z='Z', color='Color', title='3D Scatter Plot')\n",
        "\n",
        "# Show the plot\n",
        "fig.show()\n"
      ],
      "metadata": {
        "id": "aRtbSl2BLFt7"
      },
      "execution_count": null,
      "outputs": []
    },
    {
      "cell_type": "markdown",
      "source": [
        "Explanation:\n",
        "Data: A dictionary data is created with X, Y, and Z coordinates for the points, as well as a Color column for coloring the points.\n",
        "\n",
        "Plot: px.scatter_3d() is used to create the 3D scatter plot. The x, y, and z parameters specify the data for the axes, and the color parameter assigns colors to the points based on the 'Color' column.\n",
        "\n",
        "Displaying: fig.show() displays the plot.\n",
        "This will create an interactive 3D scatter plot where you can rotate and zoom in to explore the data."
      ],
      "metadata": {
        "id": "_Wq5gwhILI3F"
      }
    }
  ]
}